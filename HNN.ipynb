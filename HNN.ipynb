{
 "cells": [
  {
   "cell_type": "code",
   "execution_count": 816,
   "metadata": {},
   "outputs": [],
   "source": [
    "import numpy as np\n",
    "np.random.seed(1)\n",
    "from matplotlib import pyplot as plt\n",
    "import matplotlib.cm as cm"
   ]
  },
  {
   "cell_type": "code",
   "execution_count": 817,
   "metadata": {},
   "outputs": [],
   "source": [
    "class HNN():\n",
    "    \n",
    "    def __init__(self, df, threshold=0.0, noise_ratio=0.4):\n",
    "        '''\n",
    "        df_train : listの中に想起させたいnumpyのarray\n",
    "        '''\n",
    "        self.df = df\n",
    "        self.image_num = len(self.df)\n",
    "        self.dim = len(df[0].T)\n",
    "        self.weight = np.zeros((self.dim, self.dim))\n",
    "        self.threshold = threshold\n",
    "        self.noise_ratio = noise_ratio\n",
    "    \n",
    "    def train(self):\n",
    "        for image in self.df:\n",
    "            self.weight += np.outer(image.T, image)\n",
    "        self.weight /= self.image_num\n",
    "        for i in range(self.dim):\n",
    "            self.weight[i][i] = 0.0\n",
    "        return None\n",
    "    \n",
    "    def energy_func(self, x):\n",
    "        self.energy = - x.dot(self.weight).dot(x) / 2 + np.sum(self.threshold * x)\n",
    "        return self.energy\n",
    "    \n",
    "    def predict(self, x, loop=10):\n",
    "        x_copy = x.copy()\n",
    "        e = self.energy_func(x_copy)\n",
    "        for i in range(loop):\n",
    "            np.array([[0, 1, 2, 3, 4],\n",
    "                     ])\n",
    "            np.random.shuffle(x_copy)\n",
    "        # for i in range(loop):\n",
    "        #    x_copy = self.weight.dot(x_copy) - self.threshold\n",
    "        #    x_copy = np.sign(x_copy)\n",
    "            # e_new = self.energy_func(x)\n",
    "            # if e == e_new:\n",
    "                # break\n",
    "            # e = e_new\n",
    "        return x_copy\n",
    "    \n",
    "def noise_injection(x, noise_ratio):\n",
    "    x_copy = x.copy()\n",
    "    change_or_not = np.random.binomial(n=1, p=noise_ratio, size=len(x))\n",
    "    for i, v in enumerate(change_or_not):\n",
    "        if v == 1:\n",
    "            x_copy[i] *= -1\n",
    "    return x_copy"
   ]
  },
  {
   "cell_type": "code",
   "execution_count": 933,
   "metadata": {},
   "outputs": [],
   "source": [
    "train_array_1 = np.array([[1, -1, 1, 1, 1],\n",
    "                         [-1, 1, -1, -1, -1],\n",
    "                         [1, 1, -1, -1, 1],\n",
    "                         [-1, -1, -1, -1, 1],\n",
    "                         [1, -1, 1, -1, -1]]).reshape(25)\n",
    "train_array_2 = np.array([[-1, 1, -1, -1, -1],\n",
    "                         [1, -1, 1, 1, 1],\n",
    "                         [-1, -1, 1, 1, -1],\n",
    "                         [1, 1, 1, 1, -1],\n",
    "                         [-1, 1, -1, 1, 1]]).reshape(25)\n",
    "train_array_3 = np.array([[-1, 1, 1, 1, 1],\n",
    "                         [-1, 1, 1, 1, 1],\n",
    "                         [-1, 1, 1, 1, 1],\n",
    "                         [-1, 1, 1, 1, 1],\n",
    "                         [-1, 1, 1, 1, 1]]).reshape(25)\n",
    "train_array_4 = np.array([[1, -1, 1, 1, -1],\n",
    "                         [1, 1, -1, 1, -1],\n",
    "                         [1, 1, 1, -1, -1],\n",
    "                         [-1, 1, 1, -1, -1],\n",
    "                         [1, -1, -1, -1, 1]]).reshape(25)\n",
    "train_array_5 = np.array([[1, -1, -1, 1, -1],\n",
    "                         [-1, 1, -1, -1, -1],\n",
    "                         [1, -1, -1, -1, -1],\n",
    "                         [-1, -1, -1, -1, -1],\n",
    "                         [1, -1, -1, -1, -1]]).reshape(25)\n",
    "train_array_6 = np.array([[1, 1, 1, 1, 1],\n",
    "                         [1, 1, 1, -1, -1],\n",
    "                         [1, 1, 1, 1, 1],\n",
    "                         [-1, 1, 1, -1, 1],\n",
    "                         [1, -1, 1, 1, -1]]).reshape(25)"
   ]
  },
  {
   "cell_type": "code",
   "execution_count": 946,
   "metadata": {},
   "outputs": [
    {
     "name": "stdout",
     "output_type": "stream",
     "text": [
      "0.0\n",
      "0.0\n",
      "0.0\n",
      "0.0\n",
      "0.0\n",
      "0.0\n",
      "0.0\n",
      "0.0\n",
      "0.0\n",
      "0.0\n"
     ]
    }
   ],
   "source": [
    "error_rate = np.zeros((10))\n",
    "for i in range(10):\n",
    "    \n",
    "\n",
    "    traindata = []\n",
    "    # 画像データを3x3とする.\n",
    "    traindata.append(train_array_1)\n",
    "    traindata.append(train_array_2)\n",
    "    # traindata.append(train_array_3)\n",
    "    # traindata.append(train_array_4)\n",
    "    # traindata.append(train_array_5)\n",
    "    # traindata.append(train_array_6)\n",
    "\n",
    "    hnn = HNN(traindata)\n",
    "    hnn.train()\n",
    "    noised_data = noise_injection(train_array_1, noise_ratio=0.7)\n",
    "    predicted_data = hnn.predict(noised_data)\n",
    "\n",
    "    # fig, ax = plt.subplots(1, 3, figsize=(12, 4))\n",
    "\n",
    "    # ax[0].imshow(train_array_1.reshape((5, 5)), 'gray')\n",
    "    # ax[1].imshow(noised_data.reshape((5, 5)), 'gray')\n",
    "    # ax[2].imshow(predicted_data.reshape((5, 5)), 'gray')\n",
    "    # plt.savefig('1_10p.png')\n",
    "    \n",
    "    print(100 - np.abs(train_array_1 - predicted_data).sum() / 50 * 100)\n",
    "    error_rate[i] += 100 - np.abs(train_array_1 - predicted_data).sum() / 50 * 100"
   ]
  },
  {
   "cell_type": "code",
   "execution_count": 945,
   "metadata": {},
   "outputs": [
    {
     "data": {
      "text/plain": [
       "10.0"
      ]
     },
     "execution_count": 945,
     "metadata": {},
     "output_type": "execute_result"
    }
   ],
   "source": [
    "np.mean(error_rate)"
   ]
  },
  {
   "cell_type": "code",
   "execution_count": 947,
   "metadata": {},
   "outputs": [],
   "source": [
    "y1 = [100, 100, 100, 90, 50, 10, 0, 0, 0, 0]\n",
    "y2 = [100, 100, 100, 90, 50, 10, 0, 0, 0, 0]\n",
    "x = [10, 20, 30, 40, 50, 60, 70, 80, 90, 100]"
   ]
  },
  {
   "cell_type": "code",
   "execution_count": 948,
   "metadata": {},
   "outputs": [
    {
     "data": {
      "image/png": "[encoded data removed]",
      "text/plain": [
       "<Figure size 432x288 with 1 Axes>"
      ]
     },
     "metadata": {
      "needs_background": "light"
     },
     "output_type": "display_data"
    }
   ],
   "source": [
    "plt.plot(x, y1, label=\"similarity\")\n",
    "plt.plot(x, y2, label=\"accuracy\")\n",
    "plt.xlabel('noise rate')\n",
    "plt.legend()\n",
    "plt.savefig('2imges_by_vertical.png')"
   ]
  },
  {
   "cell_type": "code",
   "execution_count": null,
   "metadata": {},
   "outputs": [],
   "source": []
  }
 ],
 "metadata": {
  "kernelspec": {
   "display_name": "Python 3",
   "language": "python",
   "name": "python3"
  },
  "language_info": {
   "codemirror_mode": {
    "name": "ipython",
    "version": 3
   },
   "file_extension": ".py",
   "mimetype": "text/x-python",
   "name": "python",
   "nbconvert_exporter": "python",
   "pygments_lexer": "ipython3",
   "version": "3.7.3"
  }
 },
 "nbformat": 4,
 "nbformat_minor": 2
}
